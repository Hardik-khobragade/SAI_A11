{
  "nbformat": 4,
  "nbformat_minor": 0,
  "metadata": {
    "colab": {
      "provenance": []
    },
    "kernelspec": {
      "name": "python3",
      "display_name": "Python 3"
    },
    "language_info": {
      "name": "python"
    }
  },
  "cells": [
    {
      "cell_type": "code",
      "execution_count": null,
      "metadata": {
        "colab": {
          "base_uri": "https://localhost:8080/"
        },
        "id": "F6_sEuPxJCPC",
        "outputId": "b3a5fe8c-cedd-4af7-e5a0-8b25a4b4deb5"
      },
      "outputs": [
        {
          "output_type": "stream",
          "name": "stdout",
          "text": [
            "Train Data:\n",
            "   a stirring , funny and finally transporting re imagining of beauty and the beast and 1930s horror films  \\\n",
            "0  apparently reassembled from the cutting room f...                                                        \n",
            "1  they presume their audience wo n't sit still f...                                                        \n",
            "2  this is a visually stunning rumination on love...                                                        \n",
            "3  jonathan parker 's bartleby should have been t...                                                        \n",
            "4  campanella gets the tone just right funny in t...                                                        \n",
            "\n",
            "   1  \n",
            "0  0  \n",
            "1  0  \n",
            "2  1  \n",
            "3  1  \n",
            "4  1  \n",
            "\n",
            "Test Data:\n",
            "         no movement , no yuks , not much of anything  0\n",
            "0  a gob of drivel so sickly sweet , even the eag...  0\n",
            "1  gangs of new york is an unapologetic mess , wh...  0\n",
            "2  we never really feel involved with the story ,...  0\n",
            "3              this is one of polanski 's best films  1\n",
            "4  take care of my cat offers a refreshingly diff...  1\n",
            "\n",
            "Training set size: 5535\n",
            "Validation set size: 1384\n"
          ]
        }
      ],
      "source": [
        "import torch\n",
        "import torch.nn as nn\n",
        "import torch.optim as optim\n",
        "from torch.utils.data import Dataset, DataLoader\n",
        "import pandas as pd\n",
        "from sklearn.model_selection import train_test_split\n",
        "from sklearn.feature_extraction.text import CountVectorizer\n",
        "from sklearn.metrics import accuracy_score\n",
        "import time\n",
        "import os\n",
        "import matplotlib.pyplot as plt\n",
        "\n",
        "# Load datasets\n",
        "train_url = \"https://raw.githubusercontent.com/clairett/pytorch-sentiment-classification/master/data/SST2/train.tsv\"\n",
        "test_url = \"https://raw.githubusercontent.com/clairett/pytorch-sentiment-classification/master/data/SST2/test.tsv\"\n",
        "\n",
        "train_df = pd.read_csv(train_url, sep='\\t', names=['sentence', 'label'], header=None)\n",
        "test_df = pd.read_csv(test_url, sep='\\t', names=['sentence'], header=None)\n",
        "\n",
        "\n",
        "# Display the first few rows to verify\n",
        "print(\"Train Data:\\n\", train_df.head())\n",
        "print(\"\\nTest Data:\\n\", test_df.head())\n",
        "\n",
        "# Split into training and validation sets (80/20)\n",
        "train_data, val_data = train_test_split(train_df, test_size=0.2, random_state=42)\n",
        "\n",
        "print(f\"\\nTraining set size: {len(train_data)}\")\n",
        "print(f\"Validation set size: {len(val_data)}\")\n"
      ]
    },
    {
      "cell_type": "code",
      "source": [
        "\n",
        "vectorizer.fit(train_data['a stirring '])\n",
        "vectorizer.fit(train_data['sentence'])\n",
        "\n",
        "vectorizer.fit(val_data['a stirring '])\n",
        "vectorizer.fit(val_data['sentence'])"
      ],
      "metadata": {
        "id": "Y8ahuTQeN4xu"
      },
      "execution_count": null,
      "outputs": []
    },
    {
      "cell_type": "code",
      "source": [
        "class MLP(nn.Module):\n",
        "    def __init__(self, input_size=10000, hidden_sizes=[512, 256, 128, 64], output_size=2, dropout_rate=0.3):\n",
        "        super(MLP, self).__init__()\n",
        "\n",
        "        layers = []\n",
        "        in_size = input_size\n",
        "\n",
        "        for h in hidden_sizes:\n",
        "            layers.append(nn.Linear(in_size, h))\n",
        "            layers.append(nn.ReLU())\n",
        "            layers.append(nn.Dropout(dropout_rate))\n",
        "            in_size = h\n",
        "\n",
        "        layers.append(nn.Linear(in_size, output_size))\n",
        "\n",
        "        self.model = nn.Sequential(*layers)\n",
        "\n",
        "    def forward(self, x):\n",
        "        return self.model(x)\n",
        "\n",
        "# Create model instance\n",
        "mlp_model = MLP()\n",
        "\n",
        "# Count trainable parameters\n",
        "def count_parameters(model):\n",
        "    return sum(p.numel() for p in model.parameters() if p.requires_grad)\n",
        "\n",
        "print(f\"Total Trainable Parameters: {count_parameters(mlp_model):,}\")\n"
      ],
      "metadata": {
        "colab": {
          "base_uri": "https://localhost:8080/"
        },
        "id": "OdhqmNViJ3B5",
        "outputId": "34cc249b-5ade-4ebf-a3d7-58ff7a8d4f90"
      },
      "execution_count": null,
      "outputs": [
        {
          "output_type": "stream",
          "name": "stdout",
          "text": [
            "Total Trainable Parameters: 5,293,122\n"
          ]
        }
      ]
    },
    {
      "cell_type": "code",
      "source": [
        "# Training function\n",
        "\n",
        "def train_model(model, device):\n",
        "    model = model.to(device)\n",
        "    criterion = nn.CrossEntropyLoss()\n",
        "    optimizer = optim.Adam(model.parameters(), lr=1e-3)\n",
        "\n",
        "    train_losses = []  # Store training losses\n",
        "    val_accuracies = []  # Store validation accuracies\n",
        "\n",
        "    for epoch in range(10):\n",
        "        model.train()\n",
        "        epoch_loss = 0  # Accumulate loss for the epoch\n",
        "\n",
        "        for inputs, labels in train_loader:\n",
        "            inputs, labels = inputs.to(device), labels.to(device)\n",
        "            optimizer.zero_grad()\n",
        "            outputs = model(inputs)\n",
        "            loss = criterion(outputs, labels)\n",
        "            loss.backward()\n",
        "            optimizer.step()\n",
        "\n",
        "            epoch_loss += loss.item()  # Add batch loss to epoch loss\n",
        "\n",
        "        train_losses.append(epoch_loss / len(train_loader))  # Average epoch loss\n",
        "\n",
        "        # Evaluate on validation set\n",
        "        val_acc, _ = evaluate_model(model, device)\n",
        "        val_accuracies.append(val_acc)\n",
        "\n",
        "        print(f\"Epoch [{epoch + 1}/10], Loss: {train_losses[-1]:.4f}, Val Acc: {val_accuracies[-1]:.2f}%\")\n",
        "\n",
        "    torch.save(model.state_dict(), \"checkpoint.pt\")\n",
        "    return model, train_losses, val_accuracies"
      ],
      "metadata": {
        "id": "kG-lSs42J3EM"
      },
      "execution_count": null,
      "outputs": []
    },
    {
      "cell_type": "code",
      "source": [
        "#Evaluation function\n",
        "def evaluate_model(model, device, half=False):\n",
        "    model.eval()\n",
        "    correct, total = 0, 0\n",
        "    all_inputs, all_labels = [], []\n",
        "    start = time.time()\n",
        "    with torch.no_grad():\n",
        "        for inputs, labels in val_loader:\n",
        "            if half:\n",
        "                inputs = inputs.half()\n",
        "            inputs, labels = inputs.to(device), labels.to(device)\n",
        "            outputs = model(inputs)\n",
        "            preds = torch.argmax(outputs, dim=1)\n",
        "            correct += (preds == labels).sum().item()\n",
        "            total += labels.size(0)\n",
        "    end = time.time()\n",
        "    acc = correct / total * 100\n",
        "    infer_time = (end - start) * 1000  # ms\n",
        "    return acc, infer_time\n",
        "\n"
      ],
      "metadata": {
        "id": "Kl_pV-hzJ3F-"
      },
      "execution_count": null,
      "outputs": []
    },
    {
      "cell_type": "code",
      "source": [
        "class TextDataset(Dataset): # Define a custom Dataset class for text data\n",
        "    def __init__(self, data, vectorizer):\n",
        "        self.data = data\n",
        "        self.vectorizer = vectorizer\n",
        "\n",
        "    def __len__(self):\n",
        "        return len(self.data)\n",
        "\n",
        "    def __getitem__(self, idx):\n",
        "        text = self.data.iloc[idx, 0]\n",
        "        label = self.data.iloc[idx, 1]\n",
        "        text_vector = self.vectorizer.transform([text]).toarray()\n",
        "        return torch.tensor(text_vector, dtype=torch.float32).squeeze(0), torch.tensor(label, dtype=torch.long)\n",
        "\n",
        "vectorizer = CountVectorizer(max_features=10000)\n",
        "vectorizer.fit(train_data['a stirring '])\n",
        "val_dataset = TextDataset(val_data, vectorizer)\n",
        "\n",
        "train_dataset = TextDataset(train_data, vectorizer)\n",
        "\n",
        "train_loader = DataLoader(train_dataset, batch_size=32, shuffle=True)\n",
        "val_loader = DataLoader(val_dataset, batch_size=32, shuffle=False)"
      ],
      "metadata": {
        "id": "WB_n4VesMWqY"
      },
      "execution_count": null,
      "outputs": []
    },
    {
      "cell_type": "code",
      "source": [
        "\n",
        "# Storage size\n",
        "def get_model_size(path=\"model.pt\"):\n",
        "    return os.path.getsize(path) / (1024 * 1024)\n",
        "\n",
        "device = torch.device(\"cuda\" if torch.cuda.is_available() else \"cpu\")"
      ],
      "metadata": {
        "id": "Pu80QaygJ3ID"
      },
      "execution_count": null,
      "outputs": []
    },
    {
      "cell_type": "code",
      "source": [
        "# 1. Original Model\n",
        "original_model = MLP()\n",
        "original_model, train_losses, val_accuracies = train_model(original_model, device) # train_model returns a tuple (model, losses, accuracies)\n",
        "original_model.load_state_dict(torch.load(\"checkpoint.pt\")) # Now original_model refers to the actual model instance\n",
        "torch.save(original_model.state_dict(), \"original.pt\")\n",
        "orig_acc, orig_time = evaluate_model(original_model, device)\n",
        "orig_size = get_model_size(\"original.pt\")\n",
        "\n",
        "# After training:\n",
        "original_model, train_losses, val_accuracies = train_model(original_model, device)\n",
        "\n",
        "# Plotting\n",
        "plt.figure(figsize=(10, 5))\n",
        "plt.plot(train_losses, label=\"Training Loss\")\n",
        "plt.plot(val_accuracies, label=\"Validation Accuracy\")\n",
        "plt.xlabel(\"Epoch\")\n",
        "plt.ylabel(\"Value\")\n",
        "plt.title(\"Training Loss and Validation Accuracy for original model\")\n",
        "plt.legend()\n",
        "plt.show()"
      ],
      "metadata": {
        "id": "RePT8H75J3LI",
        "colab": {
          "base_uri": "https://localhost:8080/",
          "height": 834
        },
        "outputId": "a34fc8f9-491e-4c8f-9ce5-5344d3abf627"
      },
      "execution_count": null,
      "outputs": [
        {
          "output_type": "stream",
          "name": "stdout",
          "text": [
            "Epoch [1/10], Loss: 0.5879, Val Acc: 78.90%\n",
            "Epoch [2/10], Loss: 0.2550, Val Acc: 77.46%\n",
            "Epoch [3/10], Loss: 0.0701, Val Acc: 76.66%\n",
            "Epoch [4/10], Loss: 0.0129, Val Acc: 76.08%\n",
            "Epoch [5/10], Loss: 0.0058, Val Acc: 76.23%\n",
            "Epoch [6/10], Loss: 0.0058, Val Acc: 76.01%\n",
            "Epoch [7/10], Loss: 0.0093, Val Acc: 74.78%\n",
            "Epoch [8/10], Loss: 0.0076, Val Acc: 76.45%\n",
            "Epoch [9/10], Loss: 0.0099, Val Acc: 76.37%\n",
            "Epoch [10/10], Loss: 0.0046, Val Acc: 76.23%\n",
            "Epoch [1/10], Loss: 0.0004, Val Acc: 76.30%\n",
            "Epoch [2/10], Loss: 0.0099, Val Acc: 76.37%\n",
            "Epoch [3/10], Loss: 0.0325, Val Acc: 76.30%\n",
            "Epoch [4/10], Loss: 0.0382, Val Acc: 77.82%\n",
            "Epoch [5/10], Loss: 0.0078, Val Acc: 77.82%\n",
            "Epoch [6/10], Loss: 0.0007, Val Acc: 76.73%\n",
            "Epoch [7/10], Loss: 0.0006, Val Acc: 76.08%\n",
            "Epoch [8/10], Loss: 0.0001, Val Acc: 77.31%\n",
            "Epoch [9/10], Loss: 0.0001, Val Acc: 77.60%\n",
            "Epoch [10/10], Loss: 0.0001, Val Acc: 77.24%\n"
          ]
        },
        {
          "output_type": "display_data",
          "data": {
            "text/plain": [
              "<Figure size 1000x500 with 1 Axes>"
            ],
            "image/png": "[encoded data removed]"
          },
          "metadata": {}
        }
      ]
    },
    {
      "cell_type": "code",
      "source": [
        "# 2. Dynamic (qint 8)\n",
        "model_fp32 = MLP()\n",
        "model_fp32.load_state_dict(torch.load(\"checkpoint.pt\"))\n",
        "model_fp32.eval()\n",
        "\n",
        "quant_model = torch.quantization.quantize_dynamic(\n",
        "    model_fp32, {nn.Linear}, dtype=torch.qint8\n",
        ")\n",
        "\n",
        "quant_acc, quant_time = evaluate_model(quant_model, device)\n",
        "\n",
        "torch.save(quant_model.state_dict(), \"quant_model.pt\")\n",
        "quant_size = os.path.getsize(\"quant_model.pt\") / (1024 * 1024)\n",
        "\n",
        "\n",
        "\n",
        "quant_acc_after_quant, quant_time_after_quant = evaluate_model(quant_model, device)\n",
        "quant_size_after_quant = os.path.getsize(\"quant_model.pt\") / (1024 * 1024)"
      ],
      "metadata": {
        "id": "cgB4S89eJ3Nl"
      },
      "execution_count": null,
      "outputs": []
    },
    {
      "cell_type": "code",
      "source": [
        "\n",
        "# 3. Half-Precision\n",
        "half_model = MLP().to(device)\n",
        "half_model.load_state_dict(torch.load(\"checkpoint.pt\"))\n",
        "half_model = half_model.half()\n",
        "torch.save(half_model.state_dict(), \"half.pt\")\n",
        "half_acc, half_time = evaluate_model(half_model, device, half=True)\n",
        "half_size = get_model_size(\"half.pt\")\n"
      ],
      "metadata": {
        "id": "gqYcPJTLJ3QB"
      },
      "execution_count": null,
      "outputs": []
    },
    {
      "cell_type": "code",
      "source": [
        "# Final comparison table\n",
        "print(\"\\nFinal Comparison Table:\")\n",
        "print(f\"{'S.I.':<4} {'Model Name':<15} {'Accuracy (Out of 100)':<25} {'Storage (In MB)':<20} {'Inference time (In ms)':<25}\")\n",
        "print(f\"{'1.':<4} {'Original':<15} {orig_acc:<25.2f} {orig_size:<20.2f} {orig_time:<25.2f}\")\n",
        "print(f\"{'2.':<4} {'Dynamic':<15} {quant_acc:<25.2f} {quant_size:<20.2f} {quant_time:<25.2f}\")\n",
        "print(f\"{'3.':<4} {'Half':<15} {half_acc:<25.2f} {half_size:<20.2f} {half_time:<25.2f}\")\n"
      ],
      "metadata": {
        "colab": {
          "base_uri": "https://localhost:8080/"
        },
        "id": "Z5vV0oWsJ3SE",
        "outputId": "51b60e8a-664d-4a80-fc23-cda4f3309606"
      },
      "execution_count": null,
      "outputs": [
        {
          "output_type": "stream",
          "name": "stdout",
          "text": [
            "\n",
            "Final Comparison Table:\n",
            "S.I. Model Name      Accuracy (Out of 100)     Storage (In MB)      Inference time (In ms)   \n",
            "1.   Original        76.23                     20.20                674.13                   \n",
            "2.   Dynamic         77.31                     5.06                 962.93                   \n",
            "3.   Half            77.24                     10.10                1546.82                  \n"
          ]
        }
      ]
    },
    {
      "cell_type": "code",
      "source": [],
      "metadata": {
        "id": "szI_ctloJ3T3"
      },
      "execution_count": null,
      "outputs": []
    },
    {
      "cell_type": "code",
      "source": [],
      "metadata": {
        "id": "NuBxyblPJ3Vp"
      },
      "execution_count": null,
      "outputs": []
    },
    {
      "cell_type": "code",
      "source": [],
      "metadata": {
        "id": "1fLAP7_eJ3X3"
      },
      "execution_count": null,
      "outputs": []
    },
    {
      "cell_type": "code",
      "source": [],
      "metadata": {
        "id": "8tOC8KskJ3Z0"
      },
      "execution_count": null,
      "outputs": []
    }
  ]
}